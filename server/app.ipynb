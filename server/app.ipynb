{
 "cells": [
  {
   "cell_type": "code",
   "execution_count": 6,
   "metadata": {},
   "outputs": [],
   "source": [
    "from typing import TypedDict, Annotated, Optional\n",
    "from langgraph.graph import add_messages, StateGraph, END\n",
    "from langchain_google_genai import ChatGoogleGenerativeAI\n",
    "from dotenv import load_dotenv\n",
    "from langchain.agents import  initialize_agent, tool\n",
    "from langchain_community.tools import TavilySearchResults\n",
    "from langchain_openai import ChatOpenAI\n",
    "from dotenv import load_dotenv\n",
    "from langchain_community.tools.tavily_search import TavilySearchResults\n",
    "from langgraph.checkpoint.memory import MemorySaver #persistence\n",
    "# unique ids for each user session\n",
    "from uuid import uuid4 \n",
    "import json\n",
    "\n",
    "load_dotenv()\n",
    "# add_messages = reducer method, to update the graph state\n",
    "# model = ChatOpenAI(model=\"gpt-4o\")\n",
    "model = ChatGoogleGenerativeAI(model='gemini-2.0-flash-001')"
   ]
  },
  {
   "cell_type": "code",
   "execution_count": 10,
   "metadata": {},
   "outputs": [],
   "source": [
    "# testing all env variables\n",
    "search_tool = TavilySearchResults(max_results=4)\n",
    "\n",
    "tools = [search_tool]\n",
    "\n",
    "memory = MemorySaver() # introduces persistence in our chat application\n",
    "\n",
    "# search_tool.invoke('which day is today')"
   ]
  },
  {
   "cell_type": "code",
   "execution_count": 12,
   "metadata": {},
   "outputs": [],
   "source": [
    "# llm instance to have access to these tools\n",
    "llm_with_tools = model.bind_tools(tools=tools)"
   ]
  },
  {
   "cell_type": "code",
   "execution_count": null,
   "metadata": {},
   "outputs": [
    {
     "data": {
      "text/plain": [
       "AIMessage(content='', additional_kwargs={'function_call': {'name': 'tavily_search_results_json', 'arguments': '{\"query\": \"current date\"}'}}, response_metadata={'prompt_feedback': {'block_reason': 0, 'safety_ratings': []}, 'finish_reason': 'STOP', 'model_name': 'gemini-2.0-flash-001', 'safety_ratings': []}, id='run--8deaaf41-1aeb-4983-99ed-75e449d9deb9-0', tool_calls=[{'name': 'tavily_search_results_json', 'args': {'query': 'current date'}, 'id': 'f9803083-3ec7-446e-a8a9-c2f0994ac8eb', 'type': 'tool_call'}], usage_metadata={'input_tokens': 53, 'output_tokens': 11, 'total_tokens': 64, 'input_token_details': {'cache_read': 0}})"
      ]
     },
     "execution_count": 13,
     "metadata": {},
     "output_type": "execute_result"
    }
   ],
   "source": [
    "llm_with_tools.invoke('which day is today')"
   ]
  },
  {
   "cell_type": "code",
   "execution_count": 18,
   "metadata": {},
   "outputs": [
    {
     "name": "stdout",
     "output_type": "stream",
     "text": [
      "\n"
     ]
    }
   ],
   "source": [
    "a = llm_with_tools.invoke('which day is today')\n",
    "print(a.content)"
   ]
  },
  {
   "cell_type": "code",
   "execution_count": null,
   "metadata": {},
   "outputs": [
    {
     "name": "stdout",
     "output_type": "stream",
     "text": [
      "content='' additional_kwargs={'function_call': {'name': 'tavily_search_results_json', 'arguments': '{\"query\": \"current date\"}'}} response_metadata={'prompt_feedback': {'block_reason': 0, 'safety_ratings': []}, 'finish_reason': 'STOP', 'model_name': 'gemini-2.0-flash-001', 'safety_ratings': []} id='run--ffefeb43-6ace-4969-85e2-8672ba63652a-0' tool_calls=[{'name': 'tavily_search_results_json', 'args': {'query': 'current date'}, 'id': '397146aa-383e-4634-bdf7-abd4009d5f77', 'type': 'tool_call'}] usage_metadata={'input_tokens': 53, 'output_tokens': 11, 'total_tokens': 64, 'input_token_details': {'cache_read': 0}}\n"
     ]
    }
   ],
   "source": [
    "a = llm_with_tools.invoke('which day is today')\n",
    "print(a)         # dumps the entire object\n",
    "# print(dir(a))    # see available attributes/methods\n"
   ]
  },
  {
   "cell_type": "markdown",
   "metadata": {},
   "source": [
    "### content: \n",
    "✅ Key insight for working with LangGraph\n",
    "\n",
    ">LLM output may be empty if a tool is called. Always check tool_calls.\n",
    "\n",
    ">Use .last_message_text() or iterate messages to extract textual content.\n",
    "\n",
    "> Tool calls are stored in tool_calls and additional_kwargs.\n",
    "\n",
    ">Metadata (response_metadata & usage_metadata) is useful for debugging and cost tracking but not for the answer itself.\n",
    "\n",
    "### Attributes / Methods (dir(a))\n",
    "\n",
    "Many methods come from Pydantic models, because LangGraph wraps messages in Pydantic classes.\n",
    "\n",
    "Important ones for extracting content:\n",
    "\n",
    ">content → text directly generated (empty if a tool was called)\n",
    "\n",
    ">tool_calls → details about any tools invoked\n",
    "\n",
    ">additional_kwargs → extra instructions to tools\n",
    "\n",
    ">last_message_text() → method that often returns the final text result\n",
    "\n",
    ">messages → list of AIMessage objects (sometimes nested)"
   ]
  },
  {
   "cell_type": "code",
   "execution_count": 21,
   "metadata": {},
   "outputs": [],
   "source": [
    "from langchain_core.messages import AIMessage, HumanMessage, ToolMessage\n",
    "\n",
    "class State(TypedDict):\n",
    "    # annotated allows you to add extra metadata\n",
    "    messages: Annotated[list, add_messages] # reducer function (update the state)\n",
    "\n",
    "# lot of concurrent users, u dont want to block the thread in production\n",
    "# 1st node = model node\n",
    "async def model(state: State): # function is asynchronous\n",
    "    result = await llm_with_tools.ainvoke(state[\"messages\"]) \n",
    "    # updates the state\n",
    "    return {\n",
    "        \"messages\": [result], \n",
    "    }\n",
    "\n",
    "async def tools_router(state: State):\n",
    "    last_message = state[\"messages\"][-1]\n",
    "# if it has tool calls its gonna route the flow 2 the tool node\n",
    "    if(hasattr(last_message, \"tool_calls\") and len(last_message.tool_calls) > 0):\n",
    "        return \"tool_node\"\n",
    "    else: \n",
    "        return END\n",
    "    \n",
    "async def tool_node(state):\n",
    "    \"\"\"Custom tool node that handles tool calls from the LLM.\"\"\"\n",
    "    # Get the tool calls from the last message\n",
    "    tool_calls = state[\"messages\"][-1].tool_calls\n",
    "    \n",
    "    # Initialize list to store tool messages\n",
    "    tool_messages = []\n",
    "    \n",
    "    # Process each tool call\n",
    "    for tool_call in tool_calls:\n",
    "        tool_name = tool_call[\"name\"]\n",
    "        tool_args = tool_call[\"args\"] # internet search query located\n",
    "        tool_id = tool_call[\"id\"]\n",
    "        \n",
    "        # Handle the search tool\n",
    "        if tool_name == \"tavily_search_results_json\":\n",
    "            # Execute the search tool with the provided arguments\n",
    "            search_results = await search_tool.ainvoke(tool_args)\n",
    "            \n",
    "            # Create a ToolMessage for this result\n",
    "            tool_message = ToolMessage(\n",
    "                content=str(search_results),\n",
    "                tool_call_id=tool_id,\n",
    "                name=tool_name\n",
    "            )\n",
    "            \n",
    "            tool_messages.append(tool_message)\n",
    "    \n",
    "    # Add the tool messages to the state\n",
    "    return {\"messages\": tool_messages}\n",
    "\n",
    "graph_builder = StateGraph(State)\n",
    "\n",
    "graph_builder.add_node(\"model\", model)\n",
    "graph_builder.add_node(\"tool_node\", tool_node)\n",
    "graph_builder.set_entry_point(\"model\")\n",
    "\n",
    "graph_builder.add_conditional_edges(\"model\", tools_router)\n",
    "graph_builder.add_edge(\"tool_node\", \"model\")\n",
    "\n",
    "graph = graph_builder.compile(checkpointer=memory)\n"
   ]
  },
  {
   "cell_type": "code",
   "execution_count": 22,
   "metadata": {},
   "outputs": [
    {
     "data": {
      "image/png": "[encoded data removed]",
      "text/plain": [
       "<IPython.core.display.Image object>"
      ]
     },
     "metadata": {},
     "output_type": "display_data"
    }
   ],
   "source": [
    "from IPython.display import Image, display\n",
    "from langchain_core.runnables.graph import MermaidDrawMethod\n",
    "\n",
    "display(\n",
    "    Image(\n",
    "        graph.get_graph().draw_mermaid_png(\n",
    "            draw_method=MermaidDrawMethod.API\n",
    "        )\n",
    "    )\n",
    ")"
   ]
  },
  {
   "cell_type": "code",
   "execution_count": null,
   "metadata": {},
   "outputs": [
    {
     "data": {
      "text/plain": [
       "{'messages': [HumanMessage(content='When is the next spaceX launch?', additional_kwargs={}, response_metadata={}, id='cf19c232-a9e5-4847-877a-bde9386da089'),\n",
       "  AIMessage(content='', additional_kwargs={'function_call': {'name': 'tavily_search_results_json', 'arguments': '{\"query\": \"next SpaceX launch\"}'}}, response_metadata={'prompt_feedback': {'block_reason': 0, 'safety_ratings': []}, 'finish_reason': 'STOP', 'model_name': 'gemini-2.0-flash-001', 'safety_ratings': []}, id='run--aa35d406-a438-42e2-a89f-42b251885541-0', tool_calls=[{'name': 'tavily_search_results_json', 'args': {'query': 'next SpaceX launch'}, 'id': '64c5df89-efdd-40c0-8eb9-53de7c3c1f0a', 'type': 'tool_call'}], usage_metadata={'input_tokens': 57, 'output_tokens': 12, 'total_tokens': 69, 'input_token_details': {'cache_read': 0}}),\n",
       "  ToolMessage(content=\"ClientConnectorCertificateError(ConnectionKey(host='api.tavily.com', port=443, is_ssl=True, ssl=True, proxy=None, proxy_auth=None, proxy_headers_hash=None), SSLCertVerificationError(1, '[SSL: CERTIFICATE_VERIFY_FAILED] certificate verify failed: unable to get local issuer certificate (_ssl.c:1028)'))\", name='tavily_search_results_json', id='46a74e58-2ec1-4a1c-89be-e878e24d4715', tool_call_id='64c5df89-efdd-40c0-8eb9-53de7c3c1f0a'),\n",
       "  AIMessage(content='I am sorry, I am unable to retrieve the information about the next SpaceX launch due to a certificate verification error. Please try again later.', additional_kwargs={}, response_metadata={'prompt_feedback': {'block_reason': 0, 'safety_ratings': []}, 'finish_reason': 'STOP', 'model_name': 'gemini-2.0-flash-001', 'safety_ratings': []}, id='run--7a38d42a-7258-4e28-8491-7595a8167f8c-0', usage_metadata={'input_tokens': 166, 'output_tokens': 29, 'total_tokens': 195, 'input_token_details': {'cache_read': 0}})]}"
      ]
     },
     "execution_count": 23,
     "metadata": {},
     "output_type": "execute_result"
    }
   ],
   "source": [
    "config = {\n",
    "    \"configurable\": {\n",
    "        \"thread_id\": 5\n",
    "    }\n",
    "}\n",
    "\n",
    "response = await graph.ainvoke({ # will give data abruptly\n",
    "    \"messages\": [HumanMessage(content=\"When is the next spaceX launch?\")], \n",
    "}, config=config)\n",
    "\n",
    "response"
   ]
  },
  {
   "cell_type": "code",
   "execution_count": 25,
   "metadata": {},
   "outputs": [
    {
     "name": "stdout",
     "output_type": "stream",
     "text": [
      "{'event': 'on_chain_start', 'data': {'input': {'messages': [HumanMessage(content='When is the next spacex launch?', additional_kwargs={}, response_metadata={})]}}, 'name': 'LangGraph', 'tags': [], 'run_id': 'b15ca07e-d98c-44ae-b2fd-186c6ae6e12d', 'metadata': {'thread_id': 8}, 'parent_ids': []}\n",
      "{'event': 'on_chain_start', 'data': {'input': {'messages': [HumanMessage(content='When is the next spacex launch?', additional_kwargs={}, response_metadata={}, id='2884a04b-3d61-4c5d-b638-c1af74b50817')]}}, 'name': 'model', 'tags': ['graph:step:1'], 'run_id': '5fe473b0-29f7-4557-b213-dc2744819c07', 'metadata': {'thread_id': 8, 'langgraph_step': 1, 'langgraph_node': 'model', 'langgraph_triggers': ('branch:to:model',), 'langgraph_path': ('__pregel_pull', 'model'), 'langgraph_checkpoint_ns': 'model:61495f99-aa6f-ac42-7f6e-033dc65cd284'}, 'parent_ids': ['b15ca07e-d98c-44ae-b2fd-186c6ae6e12d']}\n",
      "{'event': 'on_chat_model_start', 'data': {'input': {'messages': [[HumanMessage(content='When is the next spacex launch?', additional_kwargs={}, response_metadata={}, id='2884a04b-3d61-4c5d-b638-c1af74b50817')]]}}, 'name': 'ChatGoogleGenerativeAI', 'tags': ['seq:step:1'], 'run_id': '5fdc35bd-771d-4d00-9239-42b4210bbd80', 'metadata': {'thread_id': 8, 'langgraph_step': 1, 'langgraph_node': 'model', 'langgraph_triggers': ('branch:to:model',), 'langgraph_path': ('__pregel_pull', 'model'), 'langgraph_checkpoint_ns': 'model:61495f99-aa6f-ac42-7f6e-033dc65cd284', 'checkpoint_ns': 'model:61495f99-aa6f-ac42-7f6e-033dc65cd284', 'ls_provider': 'google_genai', 'ls_model_name': 'gemini-2.0-flash-001', 'ls_model_type': 'chat', 'ls_temperature': 0.7}, 'parent_ids': ['b15ca07e-d98c-44ae-b2fd-186c6ae6e12d', '5fe473b0-29f7-4557-b213-dc2744819c07']}\n",
      "{'event': 'on_chat_model_stream', 'data': {'chunk': AIMessageChunk(content='', additional_kwargs={'function_call': {'name': 'tavily_search_results_json', 'arguments': '{\"query\": \"next spacex launch\"}'}}, response_metadata={'finish_reason': 'STOP', 'model_name': 'gemini-2.0-flash-001', 'safety_ratings': []}, id='run--5fdc35bd-771d-4d00-9239-42b4210bbd80', tool_calls=[{'name': 'tavily_search_results_json', 'args': {'query': 'next spacex launch'}, 'id': '7127c502-3e91-4a5e-bb49-efcb273d0706', 'type': 'tool_call'}], usage_metadata={'input_tokens': 57, 'output_tokens': 13, 'total_tokens': 70, 'input_token_details': {'cache_read': 0}}, tool_call_chunks=[{'name': 'tavily_search_results_json', 'args': '{\"query\": \"next spacex launch\"}', 'id': '7127c502-3e91-4a5e-bb49-efcb273d0706', 'index': None, 'type': 'tool_call_chunk'}])}, 'run_id': '5fdc35bd-771d-4d00-9239-42b4210bbd80', 'name': 'ChatGoogleGenerativeAI', 'tags': ['seq:step:1'], 'metadata': {'thread_id': 8, 'langgraph_step': 1, 'langgraph_node': 'model', 'langgraph_triggers': ('branch:to:model',), 'langgraph_path': ('__pregel_pull', 'model'), 'langgraph_checkpoint_ns': 'model:61495f99-aa6f-ac42-7f6e-033dc65cd284', 'checkpoint_ns': 'model:61495f99-aa6f-ac42-7f6e-033dc65cd284', 'ls_provider': 'google_genai', 'ls_model_name': 'gemini-2.0-flash-001', 'ls_model_type': 'chat', 'ls_temperature': 0.7}, 'parent_ids': ['b15ca07e-d98c-44ae-b2fd-186c6ae6e12d', '5fe473b0-29f7-4557-b213-dc2744819c07']}\n",
      "{'event': 'on_chat_model_end', 'data': {'output': AIMessage(content='', additional_kwargs={'function_call': {'name': 'tavily_search_results_json', 'arguments': '{\"query\": \"next spacex launch\"}'}}, response_metadata={'finish_reason': 'STOP', 'model_name': 'gemini-2.0-flash-001', 'safety_ratings': []}, id='run--5fdc35bd-771d-4d00-9239-42b4210bbd80', tool_calls=[{'name': 'tavily_search_results_json', 'args': {'query': 'next spacex launch'}, 'id': '7127c502-3e91-4a5e-bb49-efcb273d0706', 'type': 'tool_call'}], usage_metadata={'input_tokens': 57, 'output_tokens': 13, 'total_tokens': 70, 'input_token_details': {'cache_read': 0}}), 'input': {'messages': [[HumanMessage(content='When is the next spacex launch?', additional_kwargs={}, response_metadata={}, id='2884a04b-3d61-4c5d-b638-c1af74b50817')]]}}, 'run_id': '5fdc35bd-771d-4d00-9239-42b4210bbd80', 'name': 'ChatGoogleGenerativeAI', 'tags': ['seq:step:1'], 'metadata': {'thread_id': 8, 'langgraph_step': 1, 'langgraph_node': 'model', 'langgraph_triggers': ('branch:to:model',), 'langgraph_path': ('__pregel_pull', 'model'), 'langgraph_checkpoint_ns': 'model:61495f99-aa6f-ac42-7f6e-033dc65cd284', 'checkpoint_ns': 'model:61495f99-aa6f-ac42-7f6e-033dc65cd284', 'ls_provider': 'google_genai', 'ls_model_name': 'gemini-2.0-flash-001', 'ls_model_type': 'chat', 'ls_temperature': 0.7, 'LANGSMITH_TRACING': 'true', 'LANGSMITH_ENDPOINT': 'https://api.smith.langchain.com', 'LANGSMITH_PROJECT': 'pr-husky-watch-67'}, 'parent_ids': ['b15ca07e-d98c-44ae-b2fd-186c6ae6e12d', '5fe473b0-29f7-4557-b213-dc2744819c07']}\n",
      "{'event': 'on_chain_start', 'data': {'input': {'messages': [HumanMessage(content='When is the next spacex launch?', additional_kwargs={}, response_metadata={}, id='2884a04b-3d61-4c5d-b638-c1af74b50817'), AIMessage(content='', additional_kwargs={'function_call': {'name': 'tavily_search_results_json', 'arguments': '{\"query\": \"next spacex launch\"}'}}, response_metadata={'finish_reason': 'STOP', 'model_name': 'gemini-2.0-flash-001', 'safety_ratings': []}, id='run--5fdc35bd-771d-4d00-9239-42b4210bbd80', tool_calls=[{'name': 'tavily_search_results_json', 'args': {'query': 'next spacex launch'}, 'id': '7127c502-3e91-4a5e-bb49-efcb273d0706', 'type': 'tool_call'}], usage_metadata={'input_tokens': 57, 'output_tokens': 13, 'total_tokens': 70, 'input_token_details': {'cache_read': 0}})]}}, 'name': 'tools_router', 'tags': ['seq:step:3'], 'run_id': 'f27580b8-9ef3-4719-83e1-350dcf27c8e8', 'metadata': {'thread_id': 8, 'langgraph_step': 1, 'langgraph_node': 'model', 'langgraph_triggers': ('branch:to:model',), 'langgraph_path': ('__pregel_pull', 'model'), 'langgraph_checkpoint_ns': 'model:61495f99-aa6f-ac42-7f6e-033dc65cd284'}, 'parent_ids': ['b15ca07e-d98c-44ae-b2fd-186c6ae6e12d', '5fe473b0-29f7-4557-b213-dc2744819c07']}\n",
      "{'event': 'on_chain_end', 'data': {'output': 'tool_node', 'input': {'messages': [HumanMessage(content='When is the next spacex launch?', additional_kwargs={}, response_metadata={}, id='2884a04b-3d61-4c5d-b638-c1af74b50817'), AIMessage(content='', additional_kwargs={'function_call': {'name': 'tavily_search_results_json', 'arguments': '{\"query\": \"next spacex launch\"}'}}, response_metadata={'finish_reason': 'STOP', 'model_name': 'gemini-2.0-flash-001', 'safety_ratings': []}, id='run--5fdc35bd-771d-4d00-9239-42b4210bbd80', tool_calls=[{'name': 'tavily_search_results_json', 'args': {'query': 'next spacex launch'}, 'id': '7127c502-3e91-4a5e-bb49-efcb273d0706', 'type': 'tool_call'}], usage_metadata={'input_tokens': 57, 'output_tokens': 13, 'total_tokens': 70, 'input_token_details': {'cache_read': 0}})]}}, 'run_id': 'f27580b8-9ef3-4719-83e1-350dcf27c8e8', 'name': 'tools_router', 'tags': ['seq:step:3'], 'metadata': {'thread_id': 8, 'langgraph_step': 1, 'langgraph_node': 'model', 'langgraph_triggers': ('branch:to:model',), 'langgraph_path': ('__pregel_pull', 'model'), 'langgraph_checkpoint_ns': 'model:61495f99-aa6f-ac42-7f6e-033dc65cd284', 'LANGSMITH_TRACING': 'true', 'LANGSMITH_ENDPOINT': 'https://api.smith.langchain.com', 'LANGSMITH_PROJECT': 'pr-husky-watch-67'}, 'parent_ids': ['b15ca07e-d98c-44ae-b2fd-186c6ae6e12d', '5fe473b0-29f7-4557-b213-dc2744819c07']}\n",
      "{'event': 'on_chain_stream', 'run_id': '5fe473b0-29f7-4557-b213-dc2744819c07', 'name': 'model', 'tags': ['graph:step:1'], 'metadata': {'thread_id': 8, 'langgraph_step': 1, 'langgraph_node': 'model', 'langgraph_triggers': ('branch:to:model',), 'langgraph_path': ('__pregel_pull', 'model'), 'langgraph_checkpoint_ns': 'model:61495f99-aa6f-ac42-7f6e-033dc65cd284'}, 'data': {'chunk': {'messages': [AIMessage(content='', additional_kwargs={'function_call': {'name': 'tavily_search_results_json', 'arguments': '{\"query\": \"next spacex launch\"}'}}, response_metadata={'finish_reason': 'STOP', 'model_name': 'gemini-2.0-flash-001', 'safety_ratings': []}, id='run--5fdc35bd-771d-4d00-9239-42b4210bbd80', tool_calls=[{'name': 'tavily_search_results_json', 'args': {'query': 'next spacex launch'}, 'id': '7127c502-3e91-4a5e-bb49-efcb273d0706', 'type': 'tool_call'}], usage_metadata={'input_tokens': 57, 'output_tokens': 13, 'total_tokens': 70, 'input_token_details': {'cache_read': 0}})]}}, 'parent_ids': ['b15ca07e-d98c-44ae-b2fd-186c6ae6e12d']}\n",
      "{'event': 'on_chain_end', 'data': {'output': {'messages': [AIMessage(content='', additional_kwargs={'function_call': {'name': 'tavily_search_results_json', 'arguments': '{\"query\": \"next spacex launch\"}'}}, response_metadata={'finish_reason': 'STOP', 'model_name': 'gemini-2.0-flash-001', 'safety_ratings': []}, id='run--5fdc35bd-771d-4d00-9239-42b4210bbd80', tool_calls=[{'name': 'tavily_search_results_json', 'args': {'query': 'next spacex launch'}, 'id': '7127c502-3e91-4a5e-bb49-efcb273d0706', 'type': 'tool_call'}], usage_metadata={'input_tokens': 57, 'output_tokens': 13, 'total_tokens': 70, 'input_token_details': {'cache_read': 0}})]}, 'input': {'messages': [HumanMessage(content='When is the next spacex launch?', additional_kwargs={}, response_metadata={}, id='2884a04b-3d61-4c5d-b638-c1af74b50817')]}}, 'run_id': '5fe473b0-29f7-4557-b213-dc2744819c07', 'name': 'model', 'tags': ['graph:step:1'], 'metadata': {'thread_id': 8, 'langgraph_step': 1, 'langgraph_node': 'model', 'langgraph_triggers': ('branch:to:model',), 'langgraph_path': ('__pregel_pull', 'model'), 'langgraph_checkpoint_ns': 'model:61495f99-aa6f-ac42-7f6e-033dc65cd284', 'LANGSMITH_TRACING': 'true', 'LANGSMITH_ENDPOINT': 'https://api.smith.langchain.com', 'LANGSMITH_PROJECT': 'pr-husky-watch-67'}, 'parent_ids': ['b15ca07e-d98c-44ae-b2fd-186c6ae6e12d']}\n",
      "{'event': 'on_chain_stream', 'run_id': 'b15ca07e-d98c-44ae-b2fd-186c6ae6e12d', 'name': 'LangGraph', 'tags': [], 'metadata': {'thread_id': 8}, 'data': {'chunk': {'model': {'messages': [AIMessage(content='', additional_kwargs={'function_call': {'name': 'tavily_search_results_json', 'arguments': '{\"query\": \"next spacex launch\"}'}}, response_metadata={'finish_reason': 'STOP', 'model_name': 'gemini-2.0-flash-001', 'safety_ratings': []}, id='run--5fdc35bd-771d-4d00-9239-42b4210bbd80', tool_calls=[{'name': 'tavily_search_results_json', 'args': {'query': 'next spacex launch'}, 'id': '7127c502-3e91-4a5e-bb49-efcb273d0706', 'type': 'tool_call'}], usage_metadata={'input_tokens': 57, 'output_tokens': 13, 'total_tokens': 70, 'input_token_details': {'cache_read': 0}})]}}}, 'parent_ids': []}\n",
      "{'event': 'on_chain_start', 'data': {'input': {'messages': [HumanMessage(content='When is the next spacex launch?', additional_kwargs={}, response_metadata={}, id='2884a04b-3d61-4c5d-b638-c1af74b50817'), AIMessage(content='', additional_kwargs={'function_call': {'name': 'tavily_search_results_json', 'arguments': '{\"query\": \"next spacex launch\"}'}}, response_metadata={'finish_reason': 'STOP', 'model_name': 'gemini-2.0-flash-001', 'safety_ratings': []}, id='run--5fdc35bd-771d-4d00-9239-42b4210bbd80', tool_calls=[{'name': 'tavily_search_results_json', 'args': {'query': 'next spacex launch'}, 'id': '7127c502-3e91-4a5e-bb49-efcb273d0706', 'type': 'tool_call'}], usage_metadata={'input_tokens': 57, 'output_tokens': 13, 'total_tokens': 70, 'input_token_details': {'cache_read': 0}})]}}, 'name': 'tool_node', 'tags': ['graph:step:2'], 'run_id': '5a4bc5a9-52e6-4a61-b20d-4d2be44da09c', 'metadata': {'thread_id': 8, 'langgraph_step': 2, 'langgraph_node': 'tool_node', 'langgraph_triggers': ('branch:to:tool_node',), 'langgraph_path': ('__pregel_pull', 'tool_node'), 'langgraph_checkpoint_ns': 'tool_node:9c9c165a-c45d-76e1-34ca-3ddee74c413c'}, 'parent_ids': ['b15ca07e-d98c-44ae-b2fd-186c6ae6e12d']}\n",
      "{'event': 'on_tool_start', 'data': {'input': {'query': 'next spacex launch'}}, 'name': 'tavily_search_results_json', 'tags': ['seq:step:1'], 'run_id': '9bfd2b82-17a7-4cd7-b005-f3c35fd55019', 'metadata': {'thread_id': 8, 'langgraph_step': 2, 'langgraph_node': 'tool_node', 'langgraph_triggers': ('branch:to:tool_node',), 'langgraph_path': ('__pregel_pull', 'tool_node'), 'langgraph_checkpoint_ns': 'tool_node:9c9c165a-c45d-76e1-34ca-3ddee74c413c', 'checkpoint_ns': 'tool_node:9c9c165a-c45d-76e1-34ca-3ddee74c413c'}, 'parent_ids': ['b15ca07e-d98c-44ae-b2fd-186c6ae6e12d', '5a4bc5a9-52e6-4a61-b20d-4d2be44da09c']}\n",
      "{'event': 'on_tool_end', 'data': {'output': \"ClientConnectorCertificateError(ConnectionKey(host='api.tavily.com', port=443, is_ssl=True, ssl=True, proxy=None, proxy_auth=None, proxy_headers_hash=None), SSLCertVerificationError(1, '[SSL: CERTIFICATE_VERIFY_FAILED] certificate verify failed: unable to get local issuer certificate (_ssl.c:1028)'))\", 'input': {'query': 'next spacex launch'}}, 'run_id': '9bfd2b82-17a7-4cd7-b005-f3c35fd55019', 'name': 'tavily_search_results_json', 'tags': ['seq:step:1'], 'metadata': {'thread_id': 8, 'langgraph_step': 2, 'langgraph_node': 'tool_node', 'langgraph_triggers': ('branch:to:tool_node',), 'langgraph_path': ('__pregel_pull', 'tool_node'), 'langgraph_checkpoint_ns': 'tool_node:9c9c165a-c45d-76e1-34ca-3ddee74c413c', 'checkpoint_ns': 'tool_node:9c9c165a-c45d-76e1-34ca-3ddee74c413c', 'LANGSMITH_TRACING': 'true', 'LANGSMITH_ENDPOINT': 'https://api.smith.langchain.com', 'LANGSMITH_PROJECT': 'pr-husky-watch-67'}, 'parent_ids': ['b15ca07e-d98c-44ae-b2fd-186c6ae6e12d', '5a4bc5a9-52e6-4a61-b20d-4d2be44da09c']}\n",
      "{'event': 'on_chain_stream', 'run_id': '5a4bc5a9-52e6-4a61-b20d-4d2be44da09c', 'name': 'tool_node', 'tags': ['graph:step:2'], 'metadata': {'thread_id': 8, 'langgraph_step': 2, 'langgraph_node': 'tool_node', 'langgraph_triggers': ('branch:to:tool_node',), 'langgraph_path': ('__pregel_pull', 'tool_node'), 'langgraph_checkpoint_ns': 'tool_node:9c9c165a-c45d-76e1-34ca-3ddee74c413c'}, 'data': {'chunk': {'messages': [ToolMessage(content=\"ClientConnectorCertificateError(ConnectionKey(host='api.tavily.com', port=443, is_ssl=True, ssl=True, proxy=None, proxy_auth=None, proxy_headers_hash=None), SSLCertVerificationError(1, '[SSL: CERTIFICATE_VERIFY_FAILED] certificate verify failed: unable to get local issuer certificate (_ssl.c:1028)'))\", name='tavily_search_results_json', tool_call_id='7127c502-3e91-4a5e-bb49-efcb273d0706')]}}, 'parent_ids': ['b15ca07e-d98c-44ae-b2fd-186c6ae6e12d']}\n",
      "{'event': 'on_chain_end', 'data': {'output': {'messages': [ToolMessage(content=\"ClientConnectorCertificateError(ConnectionKey(host='api.tavily.com', port=443, is_ssl=True, ssl=True, proxy=None, proxy_auth=None, proxy_headers_hash=None), SSLCertVerificationError(1, '[SSL: CERTIFICATE_VERIFY_FAILED] certificate verify failed: unable to get local issuer certificate (_ssl.c:1028)'))\", name='tavily_search_results_json', tool_call_id='7127c502-3e91-4a5e-bb49-efcb273d0706')]}, 'input': {'messages': [HumanMessage(content='When is the next spacex launch?', additional_kwargs={}, response_metadata={}, id='2884a04b-3d61-4c5d-b638-c1af74b50817'), AIMessage(content='', additional_kwargs={'function_call': {'name': 'tavily_search_results_json', 'arguments': '{\"query\": \"next spacex launch\"}'}}, response_metadata={'finish_reason': 'STOP', 'model_name': 'gemini-2.0-flash-001', 'safety_ratings': []}, id='run--5fdc35bd-771d-4d00-9239-42b4210bbd80', tool_calls=[{'name': 'tavily_search_results_json', 'args': {'query': 'next spacex launch'}, 'id': '7127c502-3e91-4a5e-bb49-efcb273d0706', 'type': 'tool_call'}], usage_metadata={'input_tokens': 57, 'output_tokens': 13, 'total_tokens': 70, 'input_token_details': {'cache_read': 0}})]}}, 'run_id': '5a4bc5a9-52e6-4a61-b20d-4d2be44da09c', 'name': 'tool_node', 'tags': ['graph:step:2'], 'metadata': {'thread_id': 8, 'langgraph_step': 2, 'langgraph_node': 'tool_node', 'langgraph_triggers': ('branch:to:tool_node',), 'langgraph_path': ('__pregel_pull', 'tool_node'), 'langgraph_checkpoint_ns': 'tool_node:9c9c165a-c45d-76e1-34ca-3ddee74c413c', 'LANGSMITH_TRACING': 'true', 'LANGSMITH_ENDPOINT': 'https://api.smith.langchain.com', 'LANGSMITH_PROJECT': 'pr-husky-watch-67'}, 'parent_ids': ['b15ca07e-d98c-44ae-b2fd-186c6ae6e12d']}\n",
      "{'event': 'on_chain_stream', 'run_id': 'b15ca07e-d98c-44ae-b2fd-186c6ae6e12d', 'name': 'LangGraph', 'tags': [], 'metadata': {'thread_id': 8}, 'data': {'chunk': {'tool_node': {'messages': [ToolMessage(content=\"ClientConnectorCertificateError(ConnectionKey(host='api.tavily.com', port=443, is_ssl=True, ssl=True, proxy=None, proxy_auth=None, proxy_headers_hash=None), SSLCertVerificationError(1, '[SSL: CERTIFICATE_VERIFY_FAILED] certificate verify failed: unable to get local issuer certificate (_ssl.c:1028)'))\", name='tavily_search_results_json', id='1c62c247-95f8-458b-9d55-00970776249d', tool_call_id='7127c502-3e91-4a5e-bb49-efcb273d0706')]}}}, 'parent_ids': []}\n",
      "{'event': 'on_chain_start', 'data': {'input': {'messages': [HumanMessage(content='When is the next spacex launch?', additional_kwargs={}, response_metadata={}, id='2884a04b-3d61-4c5d-b638-c1af74b50817'), AIMessage(content='', additional_kwargs={'function_call': {'name': 'tavily_search_results_json', 'arguments': '{\"query\": \"next spacex launch\"}'}}, response_metadata={'finish_reason': 'STOP', 'model_name': 'gemini-2.0-flash-001', 'safety_ratings': []}, id='run--5fdc35bd-771d-4d00-9239-42b4210bbd80', tool_calls=[{'name': 'tavily_search_results_json', 'args': {'query': 'next spacex launch'}, 'id': '7127c502-3e91-4a5e-bb49-efcb273d0706', 'type': 'tool_call'}], usage_metadata={'input_tokens': 57, 'output_tokens': 13, 'total_tokens': 70, 'input_token_details': {'cache_read': 0}}), ToolMessage(content=\"ClientConnectorCertificateError(ConnectionKey(host='api.tavily.com', port=443, is_ssl=True, ssl=True, proxy=None, proxy_auth=None, proxy_headers_hash=None), SSLCertVerificationError(1, '[SSL: CERTIFICATE_VERIFY_FAILED] certificate verify failed: unable to get local issuer certificate (_ssl.c:1028)'))\", name='tavily_search_results_json', id='1c62c247-95f8-458b-9d55-00970776249d', tool_call_id='7127c502-3e91-4a5e-bb49-efcb273d0706')]}}, 'name': 'model', 'tags': ['graph:step:3'], 'run_id': '0c99829a-342a-49aa-8b4d-c003b9387c8f', 'metadata': {'thread_id': 8, 'langgraph_step': 3, 'langgraph_node': 'model', 'langgraph_triggers': ('branch:to:model',), 'langgraph_path': ('__pregel_pull', 'model'), 'langgraph_checkpoint_ns': 'model:1e7a9f51-a16b-143d-aa00-d4aee89cc858'}, 'parent_ids': ['b15ca07e-d98c-44ae-b2fd-186c6ae6e12d']}\n",
      "{'event': 'on_chat_model_start', 'data': {'input': {'messages': [[HumanMessage(content='When is the next spacex launch?', additional_kwargs={}, response_metadata={}, id='2884a04b-3d61-4c5d-b638-c1af74b50817'), AIMessage(content='', additional_kwargs={'function_call': {'name': 'tavily_search_results_json', 'arguments': '{\"query\": \"next spacex launch\"}'}}, response_metadata={'finish_reason': 'STOP', 'model_name': 'gemini-2.0-flash-001', 'safety_ratings': []}, id='run--5fdc35bd-771d-4d00-9239-42b4210bbd80', tool_calls=[{'name': 'tavily_search_results_json', 'args': {'query': 'next spacex launch'}, 'id': '7127c502-3e91-4a5e-bb49-efcb273d0706', 'type': 'tool_call'}], usage_metadata={'input_tokens': 57, 'output_tokens': 13, 'total_tokens': 70, 'input_token_details': {'cache_read': 0}}), ToolMessage(content=\"ClientConnectorCertificateError(ConnectionKey(host='api.tavily.com', port=443, is_ssl=True, ssl=True, proxy=None, proxy_auth=None, proxy_headers_hash=None), SSLCertVerificationError(1, '[SSL: CERTIFICATE_VERIFY_FAILED] certificate verify failed: unable to get local issuer certificate (_ssl.c:1028)'))\", name='tavily_search_results_json', id='1c62c247-95f8-458b-9d55-00970776249d', tool_call_id='7127c502-3e91-4a5e-bb49-efcb273d0706')]]}}, 'name': 'ChatGoogleGenerativeAI', 'tags': ['seq:step:1'], 'run_id': 'b6a6ca82-1b75-4e60-9551-a048f9c6b486', 'metadata': {'thread_id': 8, 'langgraph_step': 3, 'langgraph_node': 'model', 'langgraph_triggers': ('branch:to:model',), 'langgraph_path': ('__pregel_pull', 'model'), 'langgraph_checkpoint_ns': 'model:1e7a9f51-a16b-143d-aa00-d4aee89cc858', 'checkpoint_ns': 'model:1e7a9f51-a16b-143d-aa00-d4aee89cc858', 'ls_provider': 'google_genai', 'ls_model_name': 'gemini-2.0-flash-001', 'ls_model_type': 'chat', 'ls_temperature': 0.7}, 'parent_ids': ['b15ca07e-d98c-44ae-b2fd-186c6ae6e12d', '0c99829a-342a-49aa-8b4d-c003b9387c8f']}\n",
      "{'event': 'on_chat_model_stream', 'data': {'chunk': AIMessageChunk(content='I am sorry,', additional_kwargs={}, response_metadata={'safety_ratings': []}, id='run--b6a6ca82-1b75-4e60-9551-a048f9c6b486', usage_metadata={'input_tokens': 221, 'output_tokens': 0, 'total_tokens': 221, 'input_token_details': {'cache_read': 0}})}, 'run_id': 'b6a6ca82-1b75-4e60-9551-a048f9c6b486', 'name': 'ChatGoogleGenerativeAI', 'tags': ['seq:step:1'], 'metadata': {'thread_id': 8, 'langgraph_step': 3, 'langgraph_node': 'model', 'langgraph_triggers': ('branch:to:model',), 'langgraph_path': ('__pregel_pull', 'model'), 'langgraph_checkpoint_ns': 'model:1e7a9f51-a16b-143d-aa00-d4aee89cc858', 'checkpoint_ns': 'model:1e7a9f51-a16b-143d-aa00-d4aee89cc858', 'ls_provider': 'google_genai', 'ls_model_name': 'gemini-2.0-flash-001', 'ls_model_type': 'chat', 'ls_temperature': 0.7}, 'parent_ids': ['b15ca07e-d98c-44ae-b2fd-186c6ae6e12d', '0c99829a-342a-49aa-8b4d-c003b9387c8f']}\n",
      "{'event': 'on_chat_model_stream', 'data': {'chunk': AIMessageChunk(content=' I am unable to retrieve the information about the next SpaceX launch due to a certificate verification', additional_kwargs={}, response_metadata={'safety_ratings': []}, id='run--b6a6ca82-1b75-4e60-9551-a048f9c6b486', usage_metadata={'input_token_details': {'cache_read': 0}, 'input_tokens': 0, 'total_tokens': 0, 'output_tokens': 0})}, 'run_id': 'b6a6ca82-1b75-4e60-9551-a048f9c6b486', 'name': 'ChatGoogleGenerativeAI', 'tags': ['seq:step:1'], 'metadata': {'thread_id': 8, 'langgraph_step': 3, 'langgraph_node': 'model', 'langgraph_triggers': ('branch:to:model',), 'langgraph_path': ('__pregel_pull', 'model'), 'langgraph_checkpoint_ns': 'model:1e7a9f51-a16b-143d-aa00-d4aee89cc858', 'checkpoint_ns': 'model:1e7a9f51-a16b-143d-aa00-d4aee89cc858', 'ls_provider': 'google_genai', 'ls_model_name': 'gemini-2.0-flash-001', 'ls_model_type': 'chat', 'ls_temperature': 0.7}, 'parent_ids': ['b15ca07e-d98c-44ae-b2fd-186c6ae6e12d', '0c99829a-342a-49aa-8b4d-c003b9387c8f']}\n",
      "{'event': 'on_chat_model_stream', 'data': {'chunk': AIMessageChunk(content=' error. Please try again later.\\n', additional_kwargs={}, response_metadata={'finish_reason': 'STOP', 'model_name': 'gemini-2.0-flash-001', 'safety_ratings': []}, id='run--b6a6ca82-1b75-4e60-9551-a048f9c6b486', usage_metadata={'input_token_details': {'cache_read': 0}, 'input_tokens': -54, 'total_tokens': 0, 'output_tokens': 29})}, 'run_id': 'b6a6ca82-1b75-4e60-9551-a048f9c6b486', 'name': 'ChatGoogleGenerativeAI', 'tags': ['seq:step:1'], 'metadata': {'thread_id': 8, 'langgraph_step': 3, 'langgraph_node': 'model', 'langgraph_triggers': ('branch:to:model',), 'langgraph_path': ('__pregel_pull', 'model'), 'langgraph_checkpoint_ns': 'model:1e7a9f51-a16b-143d-aa00-d4aee89cc858', 'checkpoint_ns': 'model:1e7a9f51-a16b-143d-aa00-d4aee89cc858', 'ls_provider': 'google_genai', 'ls_model_name': 'gemini-2.0-flash-001', 'ls_model_type': 'chat', 'ls_temperature': 0.7}, 'parent_ids': ['b15ca07e-d98c-44ae-b2fd-186c6ae6e12d', '0c99829a-342a-49aa-8b4d-c003b9387c8f']}\n",
      "{'event': 'on_chat_model_end', 'data': {'output': AIMessage(content='I am sorry, I am unable to retrieve the information about the next SpaceX launch due to a certificate verification error. Please try again later.\\n', additional_kwargs={}, response_metadata={'safety_ratings': [], 'finish_reason': 'STOP', 'model_name': 'gemini-2.0-flash-001'}, id='run--b6a6ca82-1b75-4e60-9551-a048f9c6b486', usage_metadata={'input_tokens': 167, 'output_tokens': 29, 'total_tokens': 221, 'input_token_details': {'cache_read': 0}}), 'input': {'messages': [[HumanMessage(content='When is the next spacex launch?', additional_kwargs={}, response_metadata={}, id='2884a04b-3d61-4c5d-b638-c1af74b50817'), AIMessage(content='', additional_kwargs={'function_call': {'name': 'tavily_search_results_json', 'arguments': '{\"query\": \"next spacex launch\"}'}}, response_metadata={'finish_reason': 'STOP', 'model_name': 'gemini-2.0-flash-001', 'safety_ratings': []}, id='run--5fdc35bd-771d-4d00-9239-42b4210bbd80', tool_calls=[{'name': 'tavily_search_results_json', 'args': {'query': 'next spacex launch'}, 'id': '7127c502-3e91-4a5e-bb49-efcb273d0706', 'type': 'tool_call'}], usage_metadata={'input_tokens': 57, 'output_tokens': 13, 'total_tokens': 70, 'input_token_details': {'cache_read': 0}}), ToolMessage(content=\"ClientConnectorCertificateError(ConnectionKey(host='api.tavily.com', port=443, is_ssl=True, ssl=True, proxy=None, proxy_auth=None, proxy_headers_hash=None), SSLCertVerificationError(1, '[SSL: CERTIFICATE_VERIFY_FAILED] certificate verify failed: unable to get local issuer certificate (_ssl.c:1028)'))\", name='tavily_search_results_json', id='1c62c247-95f8-458b-9d55-00970776249d', tool_call_id='7127c502-3e91-4a5e-bb49-efcb273d0706')]]}}, 'run_id': 'b6a6ca82-1b75-4e60-9551-a048f9c6b486', 'name': 'ChatGoogleGenerativeAI', 'tags': ['seq:step:1'], 'metadata': {'thread_id': 8, 'langgraph_step': 3, 'langgraph_node': 'model', 'langgraph_triggers': ('branch:to:model',), 'langgraph_path': ('__pregel_pull', 'model'), 'langgraph_checkpoint_ns': 'model:1e7a9f51-a16b-143d-aa00-d4aee89cc858', 'checkpoint_ns': 'model:1e7a9f51-a16b-143d-aa00-d4aee89cc858', 'ls_provider': 'google_genai', 'ls_model_name': 'gemini-2.0-flash-001', 'ls_model_type': 'chat', 'ls_temperature': 0.7, 'LANGSMITH_TRACING': 'true', 'LANGSMITH_ENDPOINT': 'https://api.smith.langchain.com', 'LANGSMITH_PROJECT': 'pr-husky-watch-67'}, 'parent_ids': ['b15ca07e-d98c-44ae-b2fd-186c6ae6e12d', '0c99829a-342a-49aa-8b4d-c003b9387c8f']}\n",
      "{'event': 'on_chain_start', 'data': {'input': {'messages': [HumanMessage(content='When is the next spacex launch?', additional_kwargs={}, response_metadata={}, id='2884a04b-3d61-4c5d-b638-c1af74b50817'), AIMessage(content='', additional_kwargs={'function_call': {'name': 'tavily_search_results_json', 'arguments': '{\"query\": \"next spacex launch\"}'}}, response_metadata={'finish_reason': 'STOP', 'model_name': 'gemini-2.0-flash-001', 'safety_ratings': []}, id='run--5fdc35bd-771d-4d00-9239-42b4210bbd80', tool_calls=[{'name': 'tavily_search_results_json', 'args': {'query': 'next spacex launch'}, 'id': '7127c502-3e91-4a5e-bb49-efcb273d0706', 'type': 'tool_call'}], usage_metadata={'input_tokens': 57, 'output_tokens': 13, 'total_tokens': 70, 'input_token_details': {'cache_read': 0}}), ToolMessage(content=\"ClientConnectorCertificateError(ConnectionKey(host='api.tavily.com', port=443, is_ssl=True, ssl=True, proxy=None, proxy_auth=None, proxy_headers_hash=None), SSLCertVerificationError(1, '[SSL: CERTIFICATE_VERIFY_FAILED] certificate verify failed: unable to get local issuer certificate (_ssl.c:1028)'))\", name='tavily_search_results_json', id='1c62c247-95f8-458b-9d55-00970776249d', tool_call_id='7127c502-3e91-4a5e-bb49-efcb273d0706'), AIMessage(content='I am sorry, I am unable to retrieve the information about the next SpaceX launch due to a certificate verification error. Please try again later.\\n', additional_kwargs={}, response_metadata={'safety_ratings': [], 'finish_reason': 'STOP', 'model_name': 'gemini-2.0-flash-001'}, id='run--b6a6ca82-1b75-4e60-9551-a048f9c6b486', usage_metadata={'input_tokens': 167, 'output_tokens': 29, 'total_tokens': 221, 'input_token_details': {'cache_read': 0}})]}}, 'name': 'tools_router', 'tags': ['seq:step:3'], 'run_id': '02c5e7a6-1715-4076-9773-a01c6db4528e', 'metadata': {'thread_id': 8, 'langgraph_step': 3, 'langgraph_node': 'model', 'langgraph_triggers': ('branch:to:model',), 'langgraph_path': ('__pregel_pull', 'model'), 'langgraph_checkpoint_ns': 'model:1e7a9f51-a16b-143d-aa00-d4aee89cc858'}, 'parent_ids': ['b15ca07e-d98c-44ae-b2fd-186c6ae6e12d', '0c99829a-342a-49aa-8b4d-c003b9387c8f']}\n",
      "{'event': 'on_chain_end', 'data': {'output': '__end__', 'input': {'messages': [HumanMessage(content='When is the next spacex launch?', additional_kwargs={}, response_metadata={}, id='2884a04b-3d61-4c5d-b638-c1af74b50817'), AIMessage(content='', additional_kwargs={'function_call': {'name': 'tavily_search_results_json', 'arguments': '{\"query\": \"next spacex launch\"}'}}, response_metadata={'finish_reason': 'STOP', 'model_name': 'gemini-2.0-flash-001', 'safety_ratings': []}, id='run--5fdc35bd-771d-4d00-9239-42b4210bbd80', tool_calls=[{'name': 'tavily_search_results_json', 'args': {'query': 'next spacex launch'}, 'id': '7127c502-3e91-4a5e-bb49-efcb273d0706', 'type': 'tool_call'}], usage_metadata={'input_tokens': 57, 'output_tokens': 13, 'total_tokens': 70, 'input_token_details': {'cache_read': 0}}), ToolMessage(content=\"ClientConnectorCertificateError(ConnectionKey(host='api.tavily.com', port=443, is_ssl=True, ssl=True, proxy=None, proxy_auth=None, proxy_headers_hash=None), SSLCertVerificationError(1, '[SSL: CERTIFICATE_VERIFY_FAILED] certificate verify failed: unable to get local issuer certificate (_ssl.c:1028)'))\", name='tavily_search_results_json', id='1c62c247-95f8-458b-9d55-00970776249d', tool_call_id='7127c502-3e91-4a5e-bb49-efcb273d0706'), AIMessage(content='I am sorry, I am unable to retrieve the information about the next SpaceX launch due to a certificate verification error. Please try again later.\\n', additional_kwargs={}, response_metadata={'safety_ratings': [], 'finish_reason': 'STOP', 'model_name': 'gemini-2.0-flash-001'}, id='run--b6a6ca82-1b75-4e60-9551-a048f9c6b486', usage_metadata={'input_tokens': 167, 'output_tokens': 29, 'total_tokens': 221, 'input_token_details': {'cache_read': 0}})]}}, 'run_id': '02c5e7a6-1715-4076-9773-a01c6db4528e', 'name': 'tools_router', 'tags': ['seq:step:3'], 'metadata': {'thread_id': 8, 'langgraph_step': 3, 'langgraph_node': 'model', 'langgraph_triggers': ('branch:to:model',), 'langgraph_path': ('__pregel_pull', 'model'), 'langgraph_checkpoint_ns': 'model:1e7a9f51-a16b-143d-aa00-d4aee89cc858', 'LANGSMITH_TRACING': 'true', 'LANGSMITH_ENDPOINT': 'https://api.smith.langchain.com', 'LANGSMITH_PROJECT': 'pr-husky-watch-67'}, 'parent_ids': ['b15ca07e-d98c-44ae-b2fd-186c6ae6e12d', '0c99829a-342a-49aa-8b4d-c003b9387c8f']}\n",
      "{'event': 'on_chain_stream', 'run_id': '0c99829a-342a-49aa-8b4d-c003b9387c8f', 'name': 'model', 'tags': ['graph:step:3'], 'metadata': {'thread_id': 8, 'langgraph_step': 3, 'langgraph_node': 'model', 'langgraph_triggers': ('branch:to:model',), 'langgraph_path': ('__pregel_pull', 'model'), 'langgraph_checkpoint_ns': 'model:1e7a9f51-a16b-143d-aa00-d4aee89cc858'}, 'data': {'chunk': {'messages': [AIMessage(content='I am sorry, I am unable to retrieve the information about the next SpaceX launch due to a certificate verification error. Please try again later.\\n', additional_kwargs={}, response_metadata={'safety_ratings': [], 'finish_reason': 'STOP', 'model_name': 'gemini-2.0-flash-001'}, id='run--b6a6ca82-1b75-4e60-9551-a048f9c6b486', usage_metadata={'input_tokens': 167, 'output_tokens': 29, 'total_tokens': 221, 'input_token_details': {'cache_read': 0}})]}}, 'parent_ids': ['b15ca07e-d98c-44ae-b2fd-186c6ae6e12d']}\n",
      "{'event': 'on_chain_end', 'data': {'output': {'messages': [AIMessage(content='I am sorry, I am unable to retrieve the information about the next SpaceX launch due to a certificate verification error. Please try again later.\\n', additional_kwargs={}, response_metadata={'safety_ratings': [], 'finish_reason': 'STOP', 'model_name': 'gemini-2.0-flash-001'}, id='run--b6a6ca82-1b75-4e60-9551-a048f9c6b486', usage_metadata={'input_tokens': 167, 'output_tokens': 29, 'total_tokens': 221, 'input_token_details': {'cache_read': 0}})]}, 'input': {'messages': [HumanMessage(content='When is the next spacex launch?', additional_kwargs={}, response_metadata={}, id='2884a04b-3d61-4c5d-b638-c1af74b50817'), AIMessage(content='', additional_kwargs={'function_call': {'name': 'tavily_search_results_json', 'arguments': '{\"query\": \"next spacex launch\"}'}}, response_metadata={'finish_reason': 'STOP', 'model_name': 'gemini-2.0-flash-001', 'safety_ratings': []}, id='run--5fdc35bd-771d-4d00-9239-42b4210bbd80', tool_calls=[{'name': 'tavily_search_results_json', 'args': {'query': 'next spacex launch'}, 'id': '7127c502-3e91-4a5e-bb49-efcb273d0706', 'type': 'tool_call'}], usage_metadata={'input_tokens': 57, 'output_tokens': 13, 'total_tokens': 70, 'input_token_details': {'cache_read': 0}}), ToolMessage(content=\"ClientConnectorCertificateError(ConnectionKey(host='api.tavily.com', port=443, is_ssl=True, ssl=True, proxy=None, proxy_auth=None, proxy_headers_hash=None), SSLCertVerificationError(1, '[SSL: CERTIFICATE_VERIFY_FAILED] certificate verify failed: unable to get local issuer certificate (_ssl.c:1028)'))\", name='tavily_search_results_json', id='1c62c247-95f8-458b-9d55-00970776249d', tool_call_id='7127c502-3e91-4a5e-bb49-efcb273d0706')]}}, 'run_id': '0c99829a-342a-49aa-8b4d-c003b9387c8f', 'name': 'model', 'tags': ['graph:step:3'], 'metadata': {'thread_id': 8, 'langgraph_step': 3, 'langgraph_node': 'model', 'langgraph_triggers': ('branch:to:model',), 'langgraph_path': ('__pregel_pull', 'model'), 'langgraph_checkpoint_ns': 'model:1e7a9f51-a16b-143d-aa00-d4aee89cc858', 'LANGSMITH_TRACING': 'true', 'LANGSMITH_ENDPOINT': 'https://api.smith.langchain.com', 'LANGSMITH_PROJECT': 'pr-husky-watch-67'}, 'parent_ids': ['b15ca07e-d98c-44ae-b2fd-186c6ae6e12d']}\n",
      "{'event': 'on_chain_stream', 'run_id': 'b15ca07e-d98c-44ae-b2fd-186c6ae6e12d', 'name': 'LangGraph', 'tags': [], 'metadata': {'thread_id': 8, 'LANGSMITH_TRACING': 'true', 'LANGSMITH_ENDPOINT': 'https://api.smith.langchain.com', 'LANGSMITH_PROJECT': 'pr-husky-watch-67'}, 'data': {'chunk': {'model': {'messages': [AIMessage(content='I am sorry, I am unable to retrieve the information about the next SpaceX launch due to a certificate verification error. Please try again later.\\n', additional_kwargs={}, response_metadata={'safety_ratings': [], 'finish_reason': 'STOP', 'model_name': 'gemini-2.0-flash-001'}, id='run--b6a6ca82-1b75-4e60-9551-a048f9c6b486', usage_metadata={'input_tokens': 167, 'output_tokens': 29, 'total_tokens': 221, 'input_token_details': {'cache_read': 0}})]}}}, 'parent_ids': []}\n",
      "{'event': 'on_chain_end', 'data': {'output': {'messages': [HumanMessage(content='When is the next spacex launch?', additional_kwargs={}, response_metadata={}, id='2884a04b-3d61-4c5d-b638-c1af74b50817'), AIMessage(content='', additional_kwargs={'function_call': {'name': 'tavily_search_results_json', 'arguments': '{\"query\": \"next spacex launch\"}'}}, response_metadata={'finish_reason': 'STOP', 'model_name': 'gemini-2.0-flash-001', 'safety_ratings': []}, id='run--5fdc35bd-771d-4d00-9239-42b4210bbd80', tool_calls=[{'name': 'tavily_search_results_json', 'args': {'query': 'next spacex launch'}, 'id': '7127c502-3e91-4a5e-bb49-efcb273d0706', 'type': 'tool_call'}], usage_metadata={'input_tokens': 57, 'output_tokens': 13, 'total_tokens': 70, 'input_token_details': {'cache_read': 0}}), ToolMessage(content=\"ClientConnectorCertificateError(ConnectionKey(host='api.tavily.com', port=443, is_ssl=True, ssl=True, proxy=None, proxy_auth=None, proxy_headers_hash=None), SSLCertVerificationError(1, '[SSL: CERTIFICATE_VERIFY_FAILED] certificate verify failed: unable to get local issuer certificate (_ssl.c:1028)'))\", name='tavily_search_results_json', id='1c62c247-95f8-458b-9d55-00970776249d', tool_call_id='7127c502-3e91-4a5e-bb49-efcb273d0706'), AIMessage(content='I am sorry, I am unable to retrieve the information about the next SpaceX launch due to a certificate verification error. Please try again later.\\n', additional_kwargs={}, response_metadata={'safety_ratings': [], 'finish_reason': 'STOP', 'model_name': 'gemini-2.0-flash-001'}, id='run--b6a6ca82-1b75-4e60-9551-a048f9c6b486', usage_metadata={'input_tokens': 167, 'output_tokens': 29, 'total_tokens': 221, 'input_token_details': {'cache_read': 0}})]}}, 'run_id': 'b15ca07e-d98c-44ae-b2fd-186c6ae6e12d', 'name': 'LangGraph', 'tags': [], 'metadata': {'thread_id': 8, 'LANGSMITH_TRACING': 'true', 'LANGSMITH_ENDPOINT': 'https://api.smith.langchain.com', 'LANGSMITH_PROJECT': 'pr-husky-watch-67'}, 'parent_ids': []}\n"
     ]
    }
   ],
   "source": [
    "config = {\n",
    "    \"configurable\": {\n",
    "        \"thread_id\": 8\n",
    "    }\n",
    "}\n",
    "\n",
    "# Use async for to iterate over the async generator\n",
    "async for event in graph.astream_events({\n",
    "    \"messages\": [HumanMessage(content=\"When is the next spacex launch?\")],\n",
    "}, config=config, version=\"v2\"):\n",
    "    print(event)"
   ]
  },
  {
   "cell_type": "code",
   "execution_count": 27,
   "metadata": {},
   "outputs": [
    {
     "name": "stdout",
     "output_type": "stream",
     "text": [
      "I encountered an error when trying to retrieve information about the next SpaceX launch. The error indicates an issue with certificate verification. I will try again in case it is a temporary problem.\n",
      "I am still encountering an error when trying to retrieve information about the next SpaceX launch. Please try again later.\n"
     ]
    }
   ],
   "source": [
    "config = {\n",
    "    \"configurable\": {\n",
    "        \"thread_id\": 8\n",
    "    }\n",
    "}\n",
    "\n",
    "# Use async for to iterate over the async generator\n",
    "async for event in graph.astream_events({\n",
    "    \"messages\": [HumanMessage(content=\"When is the next spacex launch?\")],\n",
    "}, config=config, version=\"v2\"):\n",
    "    if event['event'] == \"on_chat_model_stream\":\n",
    "        print(event['data']['chunk'].content, end='', flush=True)"
   ]
  }
 ],
 "metadata": {
  "kernelspec": {
   "display_name": "p2",
   "language": "python",
   "name": "python3"
  },
  "language_info": {
   "codemirror_mode": {
    "name": "ipython",
    "version": 3
   },
   "file_extension": ".py",
   "mimetype": "text/x-python",
   "name": "python",
   "nbconvert_exporter": "python",
   "pygments_lexer": "ipython3",
   "version": "3.13.3"
  }
 },
 "nbformat": 4,
 "nbformat_minor": 2
}
